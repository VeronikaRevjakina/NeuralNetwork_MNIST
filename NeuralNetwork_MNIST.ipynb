{
 "cells": [
  {
   "cell_type": "code",
   "execution_count": 1,
   "metadata": {},
   "outputs": [],
   "source": [
    "import numpy as np"
   ]
  },
  {
   "cell_type": "markdown",
   "metadata": {},
   "source": [
    "[Activation functions](https://github.com/Kulbear/deep-learning-nano-foundation/wiki/ReLU-and-Softmax-Activation-Functions)"
   ]
  },
  {
   "cell_type": "code",
   "execution_count": 2,
   "metadata": {},
   "outputs": [],
   "source": [
    "#Sigmoid\n",
    "def sigmoid(x):\n",
    "\t  return 1 / (1 + np.exp(-x))\n",
    "    \n",
    "#ReLU\n",
    "def ReLU(x):\n",
    "    return x*(x>0)\n",
    "\n",
    "#Softmax\n",
    "def softmax(x):\n",
    "    return np.exp(x) / np.sum(np.exp(x), axis=0)\n",
    "\n",
    "    \n",
    "    "
   ]
  },
  {
   "cell_type": "code",
   "execution_count": 3,
   "metadata": {},
   "outputs": [],
   "source": [
    "import os\n",
    "from sklearn.datasets import fetch_mldata\n",
    "\n",
    "# Fetch MNIST dataset and create a local copy.\n",
    "if os.path.exists('mnist.npz'):\n",
    "    with np.load('mnist.npz', 'r') as data:\n",
    "        X = data['X']\n",
    "        y = data['y']\n",
    "else:\n",
    "    mnist = fetch_mldata(\"mnist-original\")\n",
    "    X, y = mnist.data / 255.0, mnist.target\n",
    "    np.savez('mnist.npz', X=X, y=y)"
   ]
  },
  {
   "cell_type": "code",
   "execution_count": 19,
   "metadata": {},
   "outputs": [
    {
     "name": "stdout",
     "output_type": "stream",
     "text": [
      "(70000, 1)\n"
     ]
    }
   ],
   "source": [
    "print(np.shape(y.reshape(-1,1)))"
   ]
  },
  {
   "cell_type": "code",
   "execution_count": 30,
   "metadata": {},
   "outputs": [
    {
     "name": "stdout",
     "output_type": "stream",
     "text": [
      "[0. 0. 0. 0. 0. 0. 0. 0. 1. 0.]\n"
     ]
    }
   ],
   "source": [
    "from sklearn.preprocessing import OneHotEncoder\n",
    "# Convert labels to One Hot Encoded\n",
    "num_digits = 10\n",
    "encoder = OneHotEncoder(categorical_features =[0]) \n",
    "y_one_hot = encoder.fit_transform(y.reshape(-1, 1)).toarray()\n",
    "print(y_one_hot[50000,:])\n",
    "\n",
    "# def to_one_hot(y): \n",
    "#     one_hot_y = np.zeros((len(y), num_digits))\n",
    "#     for i in range(len(y)):\n",
    "#         one_hot_y[i, int(one_hot_y[i])] = 1\n",
    "#     return one_hot_y"
   ]
  },
  {
   "cell_type": "code",
   "execution_count": 34,
   "metadata": {},
   "outputs": [
    {
     "name": "stdout",
     "output_type": "stream",
     "text": [
      "(60000, 784)\n",
      "(10000, 10)\n"
     ]
    }
   ],
   "source": [
    "from sklearn.utils import shuffle\n",
    "X,y=shuffle(X,y)\n",
    "#Split into test , train based on Kaggle\n",
    "X_train=X[:60000,:]\n",
    "y_train=y_one_hot[:60000,:]\n",
    "\n",
    "X_test=X[60000:,:]\n",
    "y_test=y_one_hot[60000:,:]\n",
    "print(np.shape(X_train))\n",
    "print(np.shape(y_test))"
   ]
  },
  {
   "cell_type": "code",
   "execution_count": null,
   "metadata": {},
   "outputs": [],
   "source": [
    "import random\n",
    "#Feed forward\n",
    "#new_amount_neurons-PARAMETER for next layer, should take it from architecture , list[i][1]\n",
    "W=np.random.sample((new_amount_neurons,X_train.shape[1])) #only for first,after second=list[i][0]\n",
    "bias=np.random.sample((1,new_amount_neurons))\n",
    "\n",
    "def nn_feed_forward_step(new_amount_neurons, input_old, W, bias): \n",
    "W=np.random.sample((new_amount_neurons,input_old.shape[1]))\n",
    "bias=np.random.sample((1,new_amount_neurons))\n",
    "z = input_old.dot(W.T) + bias\n",
    "h = f(z)\n",
    "return h #layer exit values\n",
    "\n",
    "# for l in range(n_layers - 1):\n",
    "#         #If its the first layer take x as input\n",
    "#         if l == 0:\n",
    "#             node_in = x\n",
    "#             #Otherwise take previous h as input\n",
    "#     else :\n",
    "#           node_in = h"
   ]
  }
 ],
 "metadata": {
  "kernelspec": {
   "display_name": "Python 3",
   "language": "python",
   "name": "python3"
  },
  "language_info": {
   "codemirror_mode": {
    "name": "ipython",
    "version": 3
   },
   "file_extension": ".py",
   "mimetype": "text/x-python",
   "name": "python",
   "nbconvert_exporter": "python",
   "pygments_lexer": "ipython3",
   "version": "3.6.4"
  }
 },
 "nbformat": 4,
 "nbformat_minor": 2
}
